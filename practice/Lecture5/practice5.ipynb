{
 "cells": [
  {
   "cell_type": "code",
   "id": "initial_id",
   "metadata": {
    "collapsed": true,
    "jupyter": {
     "is_executing": true
    }
   },
   "source": [
    "from torchvision import datasets\n",
    "train_dataset = datasets.CIFAR10(root='./CIFAR10', train=True, download=True)\n",
    "test_dataset = datasets.CIFAR10(root='./CIFAR10', train=False, download=True)\n",
    "print(f\"# of images (train): {len(train_dataset)}\")\n",
    "print(f\"# of images (test): {len(test_dataset)}\")\n",
    "print(f\"# of classes: {len(train_dataset.classes)}\")\n",
    "print(f\"size of 1st image: {train_dataset[0][0].size}\")"
   ],
   "outputs": [],
   "execution_count": null
  },
  {
   "metadata": {},
   "cell_type": "code",
   "outputs": [],
   "execution_count": null,
   "source": [
    "import matplotlib.pyplot as plt\n",
    "image, label = train_dataset[0]\n",
    "plt.imshow(image)\n",
    "plt.title(f'Label: {label} ({train_dataset.classes[label]})')\n",
    "plt.axis('off')\n",
    "plt.show()"
   ],
   "id": "796bbd7daa538b78"
  },
  {
   "metadata": {
    "jupyter": {
     "is_executing": true
    }
   },
   "cell_type": "code",
   "source": [
    "classes = train_dataset.classes\n",
    "fig, axis = plt.subplots(2, 5, figsize=(10, 5))\n",
    "for i in range(10):\n",
    "    for image, label in train_dataset:\n",
    "        if label == i:\n",
    "            ax = axis[i // 5, i % 5]\n",
    "            ax.set_title(f\"Label: {int(label)}\")\n",
    "            ax.axis('off')\n",
    "            break\n",
    "plt.tight_layout()\n",
    "plt.show()"
   ],
   "id": "ac3620472658b67e",
   "outputs": [],
   "execution_count": null
  },
  {
   "metadata": {},
   "cell_type": "code",
   "outputs": [],
   "execution_count": null,
   "source": [
    "import torch\n",
    "import torch.nn as nn\n",
    "import torch.nn.functional as F\n",
    "class SimpleMLP(nn.Module):\n",
    "    def __init__(self):\n",
    "        super(SimpleMLP, self).__init__()\n",
    "        self.linear1 = nn.Linear(28*28, 512)\n",
    "        self.linear2 = nn.Linear(512, 256)\n",
    "        self.linear3 = nn.Linear(256, 10)\n",
    "        self.relu = nn.ReLU()\n",
    "    def forward(self, x):\n",
    "        x = x.view(-1, 28*28)\n",
    "        x = self.relu(self.linear1(x))\n",
    "        x = self.relu(self.linear2(x))\n",
    "        x = self.linear3(x)\n",
    "        return x"
   ],
   "id": "bd7c600d65d49a62"
  },
  {
   "metadata": {
    "jupyter": {
     "is_executing": true
    }
   },
   "cell_type": "code",
   "source": [
    "class CNN(nn.Module):\n",
    "    def __init__(self, num_classes=10):\n",
    "        super().__init__()\n",
    "        self.features = nn.Sequential(\n",
    "            nn.Conv2d(in_channels=3, out_channels=64, kernel_size=5, padding=2),\n",
    "            nn.ReLU(inplace=True),\n",
    "            nn.MaxPool2d(kernel_size=2, stride=2),\n",
    "            nn.Conv2d(in_channels=64, out_channels=128, kernel_size=3, padding=1),\n",
    "            nn.ReLU(inplace=True),\n",
    "            nn.MaxPool2d(kernel_size=2),\n",
    "            nn.Conv2d(in_channels=128, out_channels=256, kernel_size=3, padding=1),\n",
    "            nn.ReLU(inplace=True),\n",
    "            nn.MaxPool2d(kernel_size=2),\n",
    "            nn.Conv2d(in_channels=256, out_channels=128, kernel_size=3, padding=1),\n",
    "            nn.ReLU(inplace=True),\n",
    "        )\n",
    "\n",
    "        self.classifier = nn.Linear(in_features=4*4*128, out_features=num_classes)\n",
    "\n",
    "    def forward(self, x):\n",
    "        x = self.features(x)\n",
    "        x = x.view(x.size(0), -1)\n",
    "        x = self.classifier(x)\n",
    "        return x"
   ],
   "id": "254b0c8411c3370b",
   "outputs": [],
   "execution_count": null
  },
  {
   "metadata": {},
   "cell_type": "code",
   "outputs": [],
   "execution_count": null,
   "source": "model = SimpleMLP()",
   "id": "c6ea32d6831f615a"
  },
  {
   "metadata": {},
   "cell_type": "code",
   "outputs": [],
   "execution_count": null,
   "source": [
    "from torchvision.transforms.functional import to_tensor\n",
    "image, label = train_dataset[0]\n",
    "sample = to_tensor(image).unsqueeze(0)\n",
    "sample = (sample - 0.5) / 0.5"
   ],
   "id": "6220c6ac42d3489"
  },
  {
   "metadata": {},
   "cell_type": "code",
   "outputs": [],
   "execution_count": null,
   "source": [
    "logits = model(sample)\n",
    "probs = F.softmax(logits, dim=1)"
   ],
   "id": "84ac1adfec8d1be0"
  },
  {
   "metadata": {
    "jupyter": {
     "is_executing": true
    }
   },
   "cell_type": "code",
   "source": [
    "probs_np = probs.detach().numpy().flatten()\n",
    "plt.bar(range(10), probs_np)\n",
    "plt.ylabel('Probability')\n",
    "plt.xticks(range(10))\n",
    "plt.xlabel('Classes')\n",
    "plt.ylim(0, 1)\n",
    "plt.show()"
   ],
   "id": "9b00c7308cc4752b",
   "outputs": [],
   "execution_count": null
  },
  {
   "metadata": {},
   "cell_type": "code",
   "outputs": [],
   "execution_count": null,
   "source": [
    "probs_np = probs.detach().numpy().flatten()\n",
    "plt.bar(range(10), probs_np)\n",
    "plt.ylabel('Probability')\n",
    "plt.xticks(range(10), classes) # 変更\n",
    "plt.xticks(rotation=45) # 変更\n",
    "plt.xlabel('Classes')\n",
    "plt.ylim(0, 1)\n",
    "plt.show()"
   ],
   "id": "e142d1879f7b5842"
  },
  {
   "metadata": {},
   "cell_type": "code",
   "outputs": [],
   "execution_count": null,
   "source": [
    "predicted_class = torch.argmax(probs, dim=1).item()\n",
    "predicted_name = classes[predicted_class]\n",
    "print(f\"Predicted class: {predicted_class} ({predicted_name})\")"
   ],
   "id": "3555facbb18648f8"
  },
  {
   "metadata": {},
   "cell_type": "code",
   "outputs": [],
   "execution_count": null,
   "source": "",
   "id": "754f0bfce0dfaa0"
  }
 ],
 "metadata": {
  "kernelspec": {
   "display_name": "Python 3",
   "language": "python",
   "name": "python3"
  },
  "language_info": {
   "codemirror_mode": {
    "name": "ipython",
    "version": 2
   },
   "file_extension": ".py",
   "mimetype": "text/x-python",
   "name": "python",
   "nbconvert_exporter": "python",
   "pygments_lexer": "ipython2",
   "version": "2.7.6"
  }
 },
 "nbformat": 4,
 "nbformat_minor": 5
}
